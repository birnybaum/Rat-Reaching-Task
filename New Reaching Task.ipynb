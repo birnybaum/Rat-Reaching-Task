{
 "cells": [
  {
   "cell_type": "code",
   "execution_count": null,
   "id": "e52f02dc",
   "metadata": {},
   "outputs": [],
   "source": [
    "import deeplabcut"
   ]
  },
  {
   "cell_type": "code",
   "execution_count": null,
   "id": "18a27fa4",
   "metadata": {},
   "outputs": [],
   "source": [
    "\n",
    "video_path = #path to the video file as a list or array of paths\n",
    "working_dir = #path to the directory where you want to store the project\n",
    "USER = #your name\n",
    "Project = #name of the project"
   ]
  },
  {
   "cell_type": "code",
   "execution_count": null,
   "id": "763a8a20",
   "metadata": {
    "collapsed": true
   },
   "outputs": [],
   "source": [
    "deeplabcut.create_new_project(Project, USER, video_path, working_directory=working_dir, copy_videos=False, multianimal=False)"
   ]
  },
  {
   "cell_type": "code",
   "execution_count": null,
   "id": "f27ca77e",
   "metadata": {},
   "outputs": [],
   "source": [
    "\n",
    "config_path= #add path to config file, cell above will give you the path at the end of the output"
   ]
  },
  {
   "cell_type": "code",
   "execution_count": null,
   "id": "4f3ac93e",
   "metadata": {
    "collapsed": true
   },
   "outputs": [],
   "source": [
    "deeplabcut.extract_frames(config_path, mode='automatic', crop=True)\n"
   ]
  },
  {
   "cell_type": "code",
   "execution_count": null,
   "id": "f22e1a17",
   "metadata": {
    "scrolled": false
   },
   "outputs": [],
   "source": [
    "deeplabcut.label_frames(config_path)"
   ]
  },
  {
   "cell_type": "code",
   "execution_count": null,
   "id": "19a3cde3",
   "metadata": {},
   "outputs": [],
   "source": [
    "deeplabcut.check_labels(config_path, visualizeindividuals=True)"
   ]
  },
  {
   "cell_type": "code",
   "execution_count": null,
   "id": "30cd99d2",
   "metadata": {},
   "outputs": [],
   "source": [
    "deeplabcut.SkeletonBuilder(config_path)"
   ]
  },
  {
   "cell_type": "code",
   "execution_count": null,
   "id": "c366c795",
   "metadata": {},
   "outputs": [],
   "source": [
    "deeplabcut.create_training_dataset(config_path)"
   ]
  },
  {
   "cell_type": "code",
   "execution_count": null,
   "id": "ce892502",
   "metadata": {},
   "outputs": [],
   "source": [
    "deeplabcut.train_network(config_path)"
   ]
  },
  {
   "cell_type": "code",
   "execution_count": null,
   "id": "0efab92b",
   "metadata": {},
   "outputs": [],
   "source": [
    "deeplabcut.evaluate_network(config_path,Shuffles=[1], plotting=False)"
   ]
  },
  {
   "cell_type": "code",
   "execution_count": null,
   "id": "74f865ce",
   "metadata": {
    "collapsed": true
   },
   "outputs": [],
   "source": [
    "vid_path = #add path to videos as list\n",
    "deeplabcut.analyze_videos(config_path,vid_path ,save_as_csv=True)"
   ]
  },
  {
   "cell_type": "code",
   "execution_count": null,
   "id": "9754b957",
   "metadata": {
    "collapsed": true
   },
   "outputs": [],
   "source": [
    "\n",
    "deeplabcut.filterpredictions(config_path, vid_path)"
   ]
  },
  {
   "cell_type": "code",
   "execution_count": null,
   "id": "e445cd83",
   "metadata": {},
   "outputs": [],
   "source": [
    "deeplabcut.plot_trajectories(config_path, vid_path)"
   ]
  },
  {
   "cell_type": "code",
   "execution_count": null,
   "id": "6ac93a4d",
   "metadata": {
    "collapsed": true
   },
   "outputs": [],
   "source": [
    "deeplabcut.create_labeled_video(config_path, vid_path,filtered=True,draw_skeleton=True,trailpoints=10,displaycropped=False)"
   ]
  }
 ],
 "metadata": {
  "kernelspec": {
   "display_name": "Python 3 (ipykernel)",
   "language": "python",
   "name": "python3"
  },
  "language_info": {
   "codemirror_mode": {
    "name": "ipython",
    "version": 3
   },
   "file_extension": ".py",
   "mimetype": "text/x-python",
   "name": "python",
   "nbconvert_exporter": "python",
   "pygments_lexer": "ipython3",
   "version": "3.10.14"
  }
 },
 "nbformat": 4,
 "nbformat_minor": 5
}
